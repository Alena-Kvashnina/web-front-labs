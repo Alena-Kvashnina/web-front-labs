{
  "nbformat": 4,
  "nbformat_minor": 0,
  "metadata": {
    "colab": {
      "provenance": [],
      "authorship_tag": "ABX9TyMGRWwub+mwGIofc8kGCv10",
      "include_colab_link": true
    },
    "kernelspec": {
      "name": "python3",
      "display_name": "Python 3"
    },
    "language_info": {
      "name": "python"
    }
  },
  "cells": [
    {
      "cell_type": "markdown",
      "metadata": {
        "id": "view-in-github",
        "colab_type": "text"
      },
      "source": [
        "<a href=\"https://colab.research.google.com/github/Alena-Kvashnina/web-front-labs/blob/main/%D0%9A%D0%BE%D0%BF%D0%B8%D1%8F_%D0%B1%D0%BB%D0%BE%D0%BA%D0%BD%D0%BE%D1%82%D0%B0_%22%D0%9A%D0%BE%D0%BF%D0%B8%D1%8F_%D0%B1%D0%BB%D0%BE%D0%BA%D0%BD%D0%BE%D1%82%D0%B0_%22Untitled0_ipynb%22%22.ipynb\" target=\"_parent\"><img src=\"https://colab.research.google.com/assets/colab-badge.svg\" alt=\"Open In Colab\"/></a>"
      ]
    },
    {
      "cell_type": "markdown",
      "source": [
        "1. Воспользоваться библиотеками и создать Series"
      ],
      "metadata": {
        "id": "GxZSF5f4q-di"
      }
    },
    {
      "cell_type": "code",
      "execution_count": 1,
      "metadata": {
        "colab": {
          "base_uri": "https://localhost:8080/"
        },
        "id": "OANqOZZPn7Rb",
        "outputId": "adb8eb8a-fb46-45b6-fd90-0c0c26696272"
      },
      "outputs": [
        {
          "output_type": "stream",
          "name": "stdout",
          "text": [
            "a    10\n",
            "b    20\n",
            "c    30\n",
            "d    40\n",
            "e    50\n",
            "dtype: int64\n"
          ]
        }
      ],
      "source": [
        "# Импортирует необходимые библиотеки\n",
        "import numpy as np\n",
        "import pandas as pd\n",
        "# Создаем массив NumPy\n",
        "data = np.array([10, 20, 30, 40, 50])\n",
        "\n",
        "# Создадим Series\n",
        "series = pd.Series(data, index=['a', 'b', 'c', 'd', 'e'])\n",
        "print(series)"
      ]
    },
    {
      "cell_type": "markdown",
      "source": [
        "2. Любым способом создать структуру данных DataFrame."
      ],
      "metadata": {
        "id": "bjgka7Zbrcwt"
      }
    },
    {
      "cell_type": "code",
      "source": [
        "data = {\n",
        "    'Имя': ['Аня', 'Борис', 'Владимир'],\n",
        "    'Возраст': [25, 30, 35],\n",
        "    'Город': ['Москва', 'СПб', 'Казань']\n",
        "}\n",
        "\n",
        "df = pd.DataFrame(data)\n",
        "print(df)"
      ],
      "metadata": {
        "colab": {
          "base_uri": "https://localhost:8080/"
        },
        "id": "Io0ptx4irKIh",
        "outputId": "be7860b3-2853-4941-fec9-7ec359d400a2"
      },
      "execution_count": 2,
      "outputs": [
        {
          "output_type": "stream",
          "name": "stdout",
          "text": [
            "        Имя  Возраст   Город\n",
            "0       Аня       25  Москва\n",
            "1     Борис       30     СПб\n",
            "2  Владимир       35  Казань\n"
          ]
        }
      ]
    },
    {
      "cell_type": "markdown",
      "source": [
        "3,4. Выполнить ручную предобработку данных полученного файла (churn)"
      ],
      "metadata": {
        "id": "hX7ouzm0rus6"
      }
    },
    {
      "cell_type": "code",
      "source": [
        "# Создаю словарь data, где ключи - это названия столбцов, а значения - списки данных для каждого столбца\n",
        "data = {\n",
        "    'customerID': ['7594-VHVEG'],\n",
        "    'gender': ['Female'],\n",
        "    'SeniorCitizen': [1],\n",
        "    'Partner': ['Yes'],\n",
        "    'Dependents': ['Yes'],\n",
        "    'tenure': [23],\n",
        "    'PhoneService': ['Yes'],\n",
        "    'MultipleLines': ['No phone service'],\n",
        "    'SeniorCitizen': ['No'],\n",
        "    'InternetService': ['Fiber optic'],\n",
        "    'OnlineSecurity': ['No'],\n",
        "    'DeviceProtection': ['No'],\n",
        "    'TechSupport': ['No'],\n",
        "    'StreamingTV': ['No'],\n",
        "    'StreamingMovies': ['No'],\n",
        "    'Contract': ['One year'],\n",
        "    'PaperlessBilling': ['No'],\n",
        "    'PaymentMethod': ['Electronic check'],\n",
        "    'MonthlyCharges': [29.85],\n",
        "    'TotalCharges': [29.85],\n",
        "    'Churn': ['No']\n",
        "}\n",
        "# Создаю датафрейм из этого словаря\n",
        "df = pd.DataFrame(data)\n",
        "# Сохраняю в csv файл\n",
        "df.to_csv(\"NewRecord.csv\", index=False)\n",
        "# Вывожу результат для проверки\n",
        "print(df)\n",
        "print(\"Файл NewRecord.csv успешно создан!\")\n"
      ],
      "metadata": {
        "colab": {
          "base_uri": "https://localhost:8080/"
        },
        "id": "d2xyMD-br7ib",
        "outputId": "c7ff6461-9194-414f-947e-3bb1ebf4b45f"
      },
      "execution_count": 3,
      "outputs": [
        {
          "output_type": "stream",
          "name": "stdout",
          "text": [
            "   customerID  gender SeniorCitizen Partner Dependents  tenure PhoneService  \\\n",
            "0  7594-VHVEG  Female            No     Yes        Yes      23          Yes   \n",
            "\n",
            "      MultipleLines InternetService OnlineSecurity DeviceProtection  \\\n",
            "0  No phone service     Fiber optic             No               No   \n",
            "\n",
            "  TechSupport StreamingTV StreamingMovies  Contract PaperlessBilling  \\\n",
            "0          No          No              No  One year               No   \n",
            "\n",
            "      PaymentMethod  MonthlyCharges  TotalCharges Churn  \n",
            "0  Electronic check           29.85         29.85    No  \n",
            "Файл NewRecord.csv успешно создан!\n"
          ]
        }
      ]
    },
    {
      "cell_type": "markdown",
      "source": [
        "5,6.Загрузить данные из заданного файла CSV в структуру DataFrame и присоединить к ней данные файла NewRecord.csv, созданного при выполнения п.5 задания (concat)."
      ],
      "metadata": {
        "id": "jcu58HX01vuJ"
      }
    },
    {
      "cell_type": "code",
      "source": [
        "import pandas as pd\n",
        "\n",
        "# Загружаем основной CSV-файл\n",
        "df = pd.read_csv('churn.csv')\n",
        "\n",
        "# Загружаем новый CSV-файл с дополнительной записью\n",
        "df_new = pd.read_csv('NewRecord.csv')\n",
        "\n",
        "# Объединяем два DataFrame в основной\n",
        "df_1 = pd.concat([df, df_new], ignore_index=True)\n",
        "\n",
        "# Выводим обьединенный дата фрейм\n",
        "print(df_1)\n"
      ],
      "metadata": {
        "colab": {
          "base_uri": "https://localhost:8080/"
        },
        "id": "y3CE91N419mi",
        "outputId": "11e6761f-6dbd-46a8-c10e-6bc71e9b304a"
      },
      "execution_count": 5,
      "outputs": [
        {
          "output_type": "stream",
          "name": "stdout",
          "text": [
            "      customerID  gender SeniorCitizen Partner Dependents  tenure  \\\n",
            "0     7590-VHVEG  Female             0     Yes         No       1   \n",
            "1     5575-GNVDE    Male             0      No         No      34   \n",
            "2     3668-QPYBK    Male             0      No         No       2   \n",
            "3     7795-CFOCW    Male             0      No         No      45   \n",
            "4     9237-HQITU  Female             0      No         No       2   \n",
            "...          ...     ...           ...     ...        ...     ...   \n",
            "7039  2234-XADUH  Female             0     Yes        Yes      72   \n",
            "7040  4801-JZAZL  Female             0     Yes        Yes      11   \n",
            "7041  8361-LTMKD    Male             1     Yes         No       4   \n",
            "7042  3186-AJIEK    Male             0      No         No      66   \n",
            "7043  7594-VHVEG  Female            No     Yes        Yes      23   \n",
            "\n",
            "     PhoneService     MultipleLines InternetService OnlineSecurity  ...  \\\n",
            "0              No  No phone service             DSL             No  ...   \n",
            "1             Yes                No             DSL            Yes  ...   \n",
            "2             Yes                No             DSL            Yes  ...   \n",
            "3              No  No phone service             DSL            Yes  ...   \n",
            "4             Yes                No     Fiber optic             No  ...   \n",
            "...           ...               ...             ...            ...  ...   \n",
            "7039          Yes               Yes     Fiber optic             No  ...   \n",
            "7040           No  No phone service             DSL            Yes  ...   \n",
            "7041          Yes               Yes     Fiber optic             No  ...   \n",
            "7042          Yes                No     Fiber optic            Yes  ...   \n",
            "7043          Yes  No phone service     Fiber optic             No  ...   \n",
            "\n",
            "     DeviceProtection TechSupport StreamingTV StreamingMovies        Contract  \\\n",
            "0                  No          No          No              No  Month-to-month   \n",
            "1                 Yes          No          No              No        One year   \n",
            "2                  No          No          No              No  Month-to-month   \n",
            "3                 Yes         Yes          No              No        One year   \n",
            "4                  No          No          No              No  Month-to-month   \n",
            "...               ...         ...         ...             ...             ...   \n",
            "7039              Yes          No         Yes             Yes        One year   \n",
            "7040               No          No          No              No  Month-to-month   \n",
            "7041               No          No          No              No  Month-to-month   \n",
            "7042              Yes         Yes         Yes             Yes        Two year   \n",
            "7043               No          No          No              No        One year   \n",
            "\n",
            "     PaperlessBilling              PaymentMethod MonthlyCharges  TotalCharges  \\\n",
            "0                 Yes           Electronic check          29.85         29.85   \n",
            "1                  No               Mailed check          56.95        1889.5   \n",
            "2                 Yes               Mailed check          53.85        108.15   \n",
            "3                  No  Bank transfer (automatic)          42.30       1840.75   \n",
            "4                 Yes           Electronic check          70.70        151.65   \n",
            "...               ...                        ...            ...           ...   \n",
            "7039              Yes    Credit card (automatic)         103.20        7362.9   \n",
            "7040              Yes           Electronic check          29.60        346.45   \n",
            "7041              Yes               Mailed check          74.40         306.6   \n",
            "7042              Yes  Bank transfer (automatic)         105.65        6844.5   \n",
            "7043               No           Electronic check          29.85         29.85   \n",
            "\n",
            "     Churn  \n",
            "0       No  \n",
            "1       No  \n",
            "2      Yes  \n",
            "3       No  \n",
            "4      Yes  \n",
            "...    ...  \n",
            "7039    No  \n",
            "7040    No  \n",
            "7041   Yes  \n",
            "7042    No  \n",
            "7043    No  \n",
            "\n",
            "[7044 rows x 21 columns]\n"
          ]
        }
      ]
    },
    {
      "cell_type": "markdown",
      "source": [
        "7.\tС полученным датафреймом выполнить ряд операций: каждую операцию прописываю отдельно"
      ],
      "metadata": {
        "id": "yn4r7_yg_5pJ"
      }
    },
    {
      "cell_type": "code",
      "source": [
        "import pandas as pd\n",
        "\n",
        "# 2. Вывести случайную выборку из 10 строк\n",
        "print(\"\\nСлучайная выборка из 10 строк:\")\n",
        "print(df.sample(10))"
      ],
      "metadata": {
        "colab": {
          "base_uri": "https://localhost:8080/"
        },
        "id": "18AdpkNYBKvf",
        "outputId": "7181363d-8ff9-434e-c0eb-f4ccce6fd7a3"
      },
      "execution_count": 6,
      "outputs": [
        {
          "output_type": "stream",
          "name": "stdout",
          "text": [
            "\n",
            "Случайная выборка из 10 строк:\n",
            "      customerID  gender  SeniorCitizen Partner Dependents  tenure  \\\n",
            "2658  7473-ZBDSN  Female              0     Yes        Yes      14   \n",
            "5543  6646-JPPHA  Female              1      No         No      14   \n",
            "3399  8434-PNQZX  Female              0      No         No      42   \n",
            "2990  2309-OSFEU    Male              0      No         No      10   \n",
            "2950  3345-JHUEO    Male              0      No         No       4   \n",
            "6268  9746-UGFAC  Female              0      No         No      22   \n",
            "856   8374-UULRV    Male              0      No         No      72   \n",
            "446   4110-PFEUZ  Female              0      No         No       1   \n",
            "3492  0975-VOOVL  Female              0      No         No       3   \n",
            "5487  5519-TEEUH    Male              0      No        Yes      33   \n",
            "\n",
            "     PhoneService     MultipleLines InternetService       OnlineSecurity  ...  \\\n",
            "2658          Yes                No              No  No internet service  ...   \n",
            "5543          Yes                No     Fiber optic                  Yes  ...   \n",
            "3399          Yes               Yes             DSL                   No  ...   \n",
            "2990           No  No phone service             DSL                   No  ...   \n",
            "2950          Yes                No              No  No internet service  ...   \n",
            "6268          Yes                No              No  No internet service  ...   \n",
            "856           Yes               Yes             DSL                  Yes  ...   \n",
            "446           Yes                No     Fiber optic                   No  ...   \n",
            "3492           No  No phone service             DSL                   No  ...   \n",
            "5487          Yes                No              No  No internet service  ...   \n",
            "\n",
            "         DeviceProtection          TechSupport          StreamingTV  \\\n",
            "2658  No internet service  No internet service  No internet service   \n",
            "5543                   No                   No                   No   \n",
            "3399                  Yes                  Yes                  Yes   \n",
            "2990                   No                   No                   No   \n",
            "2950  No internet service  No internet service  No internet service   \n",
            "6268  No internet service  No internet service  No internet service   \n",
            "856                    No                  Yes                  Yes   \n",
            "446                    No                   No                   No   \n",
            "3492                   No                   No                   No   \n",
            "5487  No internet service  No internet service  No internet service   \n",
            "\n",
            "          StreamingMovies        Contract PaperlessBilling  \\\n",
            "2658  No internet service        Two year               No   \n",
            "5543                   No  Month-to-month               No   \n",
            "3399                  Yes        Two year              Yes   \n",
            "2990                  Yes  Month-to-month              Yes   \n",
            "2950  No internet service  Month-to-month              Yes   \n",
            "6268  No internet service        One year               No   \n",
            "856                   Yes        Two year               No   \n",
            "446                    No  Month-to-month               No   \n",
            "3492                   No  Month-to-month               No   \n",
            "5487  No internet service        One year              Yes   \n",
            "\n",
            "                  PaymentMethod MonthlyCharges  TotalCharges Churn  \n",
            "2658               Mailed check          18.80        255.55    No  \n",
            "5543           Electronic check          78.85        1043.8    No  \n",
            "3399    Credit card (automatic)          78.45        3373.4    No  \n",
            "2990               Mailed check          33.90        298.45   Yes  \n",
            "2950           Electronic check          20.20          55.7    No  \n",
            "6268  Bank transfer (automatic)          20.85        450.65    No  \n",
            "856     Credit card (automatic)          86.05       6309.65    No  \n",
            "446                Mailed check          69.55         69.55   Yes  \n",
            "3492               Mailed check          29.20          98.5    No  \n",
            "5487               Mailed check          20.15        682.15    No  \n",
            "\n",
            "[10 rows x 21 columns]\n"
          ]
        }
      ]
    },
    {
      "cell_type": "code",
      "source": [
        "# 3. Вывести все строки, кроме первых 7\n",
        "print(\"\\nДатасет без первых 7 строк:\")\n",
        "print(df.iloc[7:])\n"
      ],
      "metadata": {
        "colab": {
          "base_uri": "https://localhost:8080/"
        },
        "id": "O6ydYJ5xCz6n",
        "outputId": "48a5256b-d57d-4703-a8f5-d9da34f0e6b9"
      },
      "execution_count": 7,
      "outputs": [
        {
          "output_type": "stream",
          "name": "stdout",
          "text": [
            "\n",
            "Датасет без первых 7 строк:\n",
            "      customerID  gender  SeniorCitizen Partner Dependents  tenure  \\\n",
            "7     6713-OKOMC  Female              0      No         No      10   \n",
            "8     7892-POOKP  Female              0     Yes         No      28   \n",
            "9     6388-TABGU    Male              0      No        Yes      62   \n",
            "10    9763-GRSKD    Male              0     Yes        Yes      13   \n",
            "11    7469-LKBCI    Male              0      No         No      16   \n",
            "...          ...     ...            ...     ...        ...     ...   \n",
            "7038  6840-RESVB    Male              0     Yes        Yes      24   \n",
            "7039  2234-XADUH  Female              0     Yes        Yes      72   \n",
            "7040  4801-JZAZL  Female              0     Yes        Yes      11   \n",
            "7041  8361-LTMKD    Male              1     Yes         No       4   \n",
            "7042  3186-AJIEK    Male              0      No         No      66   \n",
            "\n",
            "     PhoneService     MultipleLines InternetService       OnlineSecurity  ...  \\\n",
            "7              No  No phone service             DSL                  Yes  ...   \n",
            "8             Yes               Yes     Fiber optic                   No  ...   \n",
            "9             Yes                No             DSL                  Yes  ...   \n",
            "10            Yes                No             DSL                  Yes  ...   \n",
            "11            Yes                No              No  No internet service  ...   \n",
            "...           ...               ...             ...                  ...  ...   \n",
            "7038          Yes               Yes             DSL                  Yes  ...   \n",
            "7039          Yes               Yes     Fiber optic                   No  ...   \n",
            "7040           No  No phone service             DSL                  Yes  ...   \n",
            "7041          Yes               Yes     Fiber optic                   No  ...   \n",
            "7042          Yes                No     Fiber optic                  Yes  ...   \n",
            "\n",
            "         DeviceProtection          TechSupport          StreamingTV  \\\n",
            "7                      No                   No                   No   \n",
            "8                     Yes                  Yes                  Yes   \n",
            "9                      No                   No                   No   \n",
            "10                     No                   No                   No   \n",
            "11    No internet service  No internet service  No internet service   \n",
            "...                   ...                  ...                  ...   \n",
            "7038                  Yes                  Yes                  Yes   \n",
            "7039                  Yes                   No                  Yes   \n",
            "7040                   No                   No                   No   \n",
            "7041                   No                   No                   No   \n",
            "7042                  Yes                  Yes                  Yes   \n",
            "\n",
            "          StreamingMovies        Contract PaperlessBilling  \\\n",
            "7                      No  Month-to-month               No   \n",
            "8                     Yes  Month-to-month              Yes   \n",
            "9                      No        One year               No   \n",
            "10                     No  Month-to-month              Yes   \n",
            "11    No internet service        Two year               No   \n",
            "...                   ...             ...              ...   \n",
            "7038                  Yes        One year              Yes   \n",
            "7039                  Yes        One year              Yes   \n",
            "7040                   No  Month-to-month              Yes   \n",
            "7041                   No  Month-to-month              Yes   \n",
            "7042                  Yes        Two year              Yes   \n",
            "\n",
            "                  PaymentMethod MonthlyCharges  TotalCharges Churn  \n",
            "7                  Mailed check          29.75         301.9    No  \n",
            "8              Electronic check         104.80       3046.05   Yes  \n",
            "9     Bank transfer (automatic)          56.15       3487.95    No  \n",
            "10                 Mailed check          49.95        587.45    No  \n",
            "11      Credit card (automatic)          18.95         326.8    No  \n",
            "...                         ...            ...           ...   ...  \n",
            "7038               Mailed check          84.80        1990.5    No  \n",
            "7039    Credit card (automatic)         103.20        7362.9    No  \n",
            "7040           Electronic check          29.60        346.45    No  \n",
            "7041               Mailed check          74.40         306.6   Yes  \n",
            "7042  Bank transfer (automatic)         105.65        6844.5    No  \n",
            "\n",
            "[7036 rows x 21 columns]\n"
          ]
        }
      ]
    },
    {
      "cell_type": "code",
      "source": [
        "# 4. Вывести первые 5 строк датасета\n",
        "print(\"\\nПервые 5 строк:\")\n",
        "print(df.head(5))"
      ],
      "metadata": {
        "colab": {
          "base_uri": "https://localhost:8080/"
        },
        "id": "lull0UnLDLDZ",
        "outputId": "0b68f916-85a1-44b5-ead0-597e2ebad5c8"
      },
      "execution_count": 8,
      "outputs": [
        {
          "output_type": "stream",
          "name": "stdout",
          "text": [
            "\n",
            "Первые 5 строк:\n",
            "   customerID  gender  SeniorCitizen Partner Dependents  tenure PhoneService  \\\n",
            "0  7590-VHVEG  Female              0     Yes         No       1           No   \n",
            "1  5575-GNVDE    Male              0      No         No      34          Yes   \n",
            "2  3668-QPYBK    Male              0      No         No       2          Yes   \n",
            "3  7795-CFOCW    Male              0      No         No      45           No   \n",
            "4  9237-HQITU  Female              0      No         No       2          Yes   \n",
            "\n",
            "      MultipleLines InternetService OnlineSecurity  ... DeviceProtection  \\\n",
            "0  No phone service             DSL             No  ...               No   \n",
            "1                No             DSL            Yes  ...              Yes   \n",
            "2                No             DSL            Yes  ...               No   \n",
            "3  No phone service             DSL            Yes  ...              Yes   \n",
            "4                No     Fiber optic             No  ...               No   \n",
            "\n",
            "  TechSupport StreamingTV StreamingMovies        Contract PaperlessBilling  \\\n",
            "0          No          No              No  Month-to-month              Yes   \n",
            "1          No          No              No        One year               No   \n",
            "2          No          No              No  Month-to-month              Yes   \n",
            "3         Yes          No              No        One year               No   \n",
            "4          No          No              No  Month-to-month              Yes   \n",
            "\n",
            "               PaymentMethod MonthlyCharges  TotalCharges Churn  \n",
            "0           Electronic check          29.85         29.85    No  \n",
            "1               Mailed check          56.95        1889.5    No  \n",
            "2               Mailed check          53.85        108.15   Yes  \n",
            "3  Bank transfer (automatic)          42.30       1840.75    No  \n",
            "4           Electronic check          70.70        151.65   Yes  \n",
            "\n",
            "[5 rows x 21 columns]\n"
          ]
        }
      ]
    },
    {
      "cell_type": "code",
      "source": [
        "# 5. Вывести последние 5 строк датасета\n",
        "print(\"\\nПоследние 5 строк:\")\n",
        "print(df.tail(5))"
      ],
      "metadata": {
        "colab": {
          "base_uri": "https://localhost:8080/"
        },
        "id": "VaoIcBQ8DUT8",
        "outputId": "80231562-d67f-4f45-8624-d631926ae821"
      },
      "execution_count": 9,
      "outputs": [
        {
          "output_type": "stream",
          "name": "stdout",
          "text": [
            "\n",
            "Последние 5 строк:\n",
            "      customerID  gender  SeniorCitizen Partner Dependents  tenure  \\\n",
            "7038  6840-RESVB    Male              0     Yes        Yes      24   \n",
            "7039  2234-XADUH  Female              0     Yes        Yes      72   \n",
            "7040  4801-JZAZL  Female              0     Yes        Yes      11   \n",
            "7041  8361-LTMKD    Male              1     Yes         No       4   \n",
            "7042  3186-AJIEK    Male              0      No         No      66   \n",
            "\n",
            "     PhoneService     MultipleLines InternetService OnlineSecurity  ...  \\\n",
            "7038          Yes               Yes             DSL            Yes  ...   \n",
            "7039          Yes               Yes     Fiber optic             No  ...   \n",
            "7040           No  No phone service             DSL            Yes  ...   \n",
            "7041          Yes               Yes     Fiber optic             No  ...   \n",
            "7042          Yes                No     Fiber optic            Yes  ...   \n",
            "\n",
            "     DeviceProtection TechSupport StreamingTV StreamingMovies        Contract  \\\n",
            "7038              Yes         Yes         Yes             Yes        One year   \n",
            "7039              Yes          No         Yes             Yes        One year   \n",
            "7040               No          No          No              No  Month-to-month   \n",
            "7041               No          No          No              No  Month-to-month   \n",
            "7042              Yes         Yes         Yes             Yes        Two year   \n",
            "\n",
            "     PaperlessBilling              PaymentMethod MonthlyCharges  TotalCharges  \\\n",
            "7038              Yes               Mailed check          84.80        1990.5   \n",
            "7039              Yes    Credit card (automatic)         103.20        7362.9   \n",
            "7040              Yes           Electronic check          29.60        346.45   \n",
            "7041              Yes               Mailed check          74.40         306.6   \n",
            "7042              Yes  Bank transfer (automatic)         105.65        6844.5   \n",
            "\n",
            "     Churn  \n",
            "7038    No  \n",
            "7039    No  \n",
            "7040    No  \n",
            "7041   Yes  \n",
            "7042    No  \n",
            "\n",
            "[5 rows x 21 columns]\n"
          ]
        }
      ]
    },
    {
      "cell_type": "code",
      "source": [
        "# 6. Вывести общую информацию о датасете\n",
        "print(\"\\nОбщая информация о датасете:\")\n",
        "df.info()\n"
      ],
      "metadata": {
        "colab": {
          "base_uri": "https://localhost:8080/"
        },
        "id": "2ZCXOadcDacc",
        "outputId": "da5d54e2-0c76-4873-a167-354ec4893bbe"
      },
      "execution_count": 10,
      "outputs": [
        {
          "output_type": "stream",
          "name": "stdout",
          "text": [
            "\n",
            "Общая информация о датасете:\n",
            "<class 'pandas.core.frame.DataFrame'>\n",
            "RangeIndex: 7043 entries, 0 to 7042\n",
            "Data columns (total 21 columns):\n",
            " #   Column            Non-Null Count  Dtype  \n",
            "---  ------            --------------  -----  \n",
            " 0   customerID        7043 non-null   object \n",
            " 1   gender            7043 non-null   object \n",
            " 2   SeniorCitizen     7043 non-null   int64  \n",
            " 3   Partner           7043 non-null   object \n",
            " 4   Dependents        7043 non-null   object \n",
            " 5   tenure            7043 non-null   int64  \n",
            " 6   PhoneService      7043 non-null   object \n",
            " 7   MultipleLines     7043 non-null   object \n",
            " 8   InternetService   7043 non-null   object \n",
            " 9   OnlineSecurity    7043 non-null   object \n",
            " 10  OnlineBackup      7043 non-null   object \n",
            " 11  DeviceProtection  7043 non-null   object \n",
            " 12  TechSupport       7043 non-null   object \n",
            " 13  StreamingTV       7043 non-null   object \n",
            " 14  StreamingMovies   7043 non-null   object \n",
            " 15  Contract          7043 non-null   object \n",
            " 16  PaperlessBilling  7043 non-null   object \n",
            " 17  PaymentMethod     7043 non-null   object \n",
            " 18  MonthlyCharges    7043 non-null   float64\n",
            " 19  TotalCharges      7043 non-null   object \n",
            " 20  Churn             7043 non-null   object \n",
            "dtypes: float64(1), int64(2), object(18)\n",
            "memory usage: 1.1+ MB\n"
          ]
        }
      ]
    },
    {
      "cell_type": "code",
      "source": [
        "# 7. Вывести размер датасета (количество строк и столбцов)\n",
        "print(\"\\nРазмер датасета (строки, столбцы):\", df.shape)"
      ],
      "metadata": {
        "colab": {
          "base_uri": "https://localhost:8080/"
        },
        "id": "WbAfnOKSDhye",
        "outputId": "f2945036-7d66-428f-afde-162f02ab5083"
      },
      "execution_count": 11,
      "outputs": [
        {
          "output_type": "stream",
          "name": "stdout",
          "text": [
            "\n",
            "Размер датасета (строки, столбцы): (7043, 21)\n"
          ]
        }
      ]
    },
    {
      "cell_type": "code",
      "source": [
        "# 8. Вывести названия столбцов датасета\n",
        "print(\"\\nНазвания столбцов:\")\n",
        "print(df.columns)\n"
      ],
      "metadata": {
        "colab": {
          "base_uri": "https://localhost:8080/"
        },
        "id": "z5YSN19CD1Wg",
        "outputId": "ae8fc7e8-1083-4090-ac66-3b70c91ffbc8"
      },
      "execution_count": 12,
      "outputs": [
        {
          "output_type": "stream",
          "name": "stdout",
          "text": [
            "\n",
            "Названия столбцов:\n",
            "Index(['customerID', 'gender', 'SeniorCitizen', 'Partner', 'Dependents',\n",
            "       'tenure', 'PhoneService', 'MultipleLines', 'InternetService',\n",
            "       'OnlineSecurity', 'OnlineBackup', 'DeviceProtection', 'TechSupport',\n",
            "       'StreamingTV', 'StreamingMovies', 'Contract', 'PaperlessBilling',\n",
            "       'PaymentMethod', 'MonthlyCharges', 'TotalCharges', 'Churn'],\n",
            "      dtype='object')\n"
          ]
        }
      ]
    },
    {
      "cell_type": "code",
      "source": [
        "# 9. Вывести типы данных по столбцам\n",
        "print(\"\\nТипы данных по столбцам:\")\n",
        "print(df.dtypes)\n"
      ],
      "metadata": {
        "colab": {
          "base_uri": "https://localhost:8080/"
        },
        "id": "h547sjeLD_75",
        "outputId": "28dd49d1-6d73-4313-e3b8-14a4f85923f0"
      },
      "execution_count": 13,
      "outputs": [
        {
          "output_type": "stream",
          "name": "stdout",
          "text": [
            "\n",
            "Типы данных по столбцам:\n",
            "customerID           object\n",
            "gender               object\n",
            "SeniorCitizen         int64\n",
            "Partner              object\n",
            "Dependents           object\n",
            "tenure                int64\n",
            "PhoneService         object\n",
            "MultipleLines        object\n",
            "InternetService      object\n",
            "OnlineSecurity       object\n",
            "OnlineBackup         object\n",
            "DeviceProtection     object\n",
            "TechSupport          object\n",
            "StreamingTV          object\n",
            "StreamingMovies      object\n",
            "Contract             object\n",
            "PaperlessBilling     object\n",
            "PaymentMethod        object\n",
            "MonthlyCharges      float64\n",
            "TotalCharges         object\n",
            "Churn                object\n",
            "dtype: object\n"
          ]
        }
      ]
    },
    {
      "cell_type": "code",
      "source": [
        "# 10. Вывести количество уникальных значений по каждому столбцу\n",
        "print(\"\\nКоличество уникальных значений по столбцам:\")\n",
        "print(df.nunique())"
      ],
      "metadata": {
        "colab": {
          "base_uri": "https://localhost:8080/"
        },
        "id": "IJUCb-IlEDVR",
        "outputId": "33ee8b7d-0486-4779-999d-a438147cc2aa"
      },
      "execution_count": 14,
      "outputs": [
        {
          "output_type": "stream",
          "name": "stdout",
          "text": [
            "\n",
            "Количество уникальных значений по столбцам:\n",
            "customerID          7043\n",
            "gender                 2\n",
            "SeniorCitizen          2\n",
            "Partner                2\n",
            "Dependents             2\n",
            "tenure                73\n",
            "PhoneService           2\n",
            "MultipleLines          3\n",
            "InternetService        3\n",
            "OnlineSecurity         3\n",
            "OnlineBackup           3\n",
            "DeviceProtection       3\n",
            "TechSupport            3\n",
            "StreamingTV            3\n",
            "StreamingMovies        3\n",
            "Contract               3\n",
            "PaperlessBilling       2\n",
            "PaymentMethod          4\n",
            "MonthlyCharges      1585\n",
            "TotalCharges        6531\n",
            "Churn                  2\n",
            "dtype: int64\n"
          ]
        }
      ]
    },
    {
      "cell_type": "markdown",
      "source": [
        "8.\tПроверить файл на пропуски данных. Заполнить имеющиеся пропуски. каждое задание выполняется отдельно"
      ],
      "metadata": {
        "id": "zeZek_g-EqWF"
      }
    },
    {
      "cell_type": "code",
      "source": [
        "import pandas as pd\n",
        "\n",
        "# 1. Вывести количество пропущенных значений по столбцам\n",
        "print(\"\\nКоличество пропущенных значений по столбцам:\")\n",
        "print(df.isnull().sum())"
      ],
      "metadata": {
        "colab": {
          "base_uri": "https://localhost:8080/"
        },
        "id": "aeY-k8IuExhk",
        "outputId": "e3150294-21de-48ec-9a5b-974603de121c"
      },
      "execution_count": 15,
      "outputs": [
        {
          "output_type": "stream",
          "name": "stdout",
          "text": [
            "\n",
            "Количество пропущенных значений по столбцам:\n",
            "customerID          0\n",
            "gender              0\n",
            "SeniorCitizen       0\n",
            "Partner             0\n",
            "Dependents          0\n",
            "tenure              0\n",
            "PhoneService        0\n",
            "MultipleLines       0\n",
            "InternetService     0\n",
            "OnlineSecurity      0\n",
            "OnlineBackup        0\n",
            "DeviceProtection    0\n",
            "TechSupport         0\n",
            "StreamingTV         0\n",
            "StreamingMovies     0\n",
            "Contract            0\n",
            "PaperlessBilling    0\n",
            "PaymentMethod       0\n",
            "MonthlyCharges      0\n",
            "TotalCharges        0\n",
            "Churn               0\n",
            "dtype: int64\n"
          ]
        }
      ]
    },
    {
      "cell_type": "code",
      "source": [
        "# 2. Выделить категориальные данные\n",
        "categorical_columns = df.select_dtypes(include=['object']).columns\n",
        "print(\"\\nКатегориальные столбцы:\")\n",
        "print(categorical_columns)"
      ],
      "metadata": {
        "colab": {
          "base_uri": "https://localhost:8080/"
        },
        "id": "Kylu6-aiGkAE",
        "outputId": "002a1081-ff74-4df9-dc83-e341d2aa17f5"
      },
      "execution_count": 16,
      "outputs": [
        {
          "output_type": "stream",
          "name": "stdout",
          "text": [
            "\n",
            "Категориальные столбцы:\n",
            "Index(['customerID', 'gender', 'Partner', 'Dependents', 'PhoneService',\n",
            "       'MultipleLines', 'InternetService', 'OnlineSecurity', 'OnlineBackup',\n",
            "       'DeviceProtection', 'TechSupport', 'StreamingTV', 'StreamingMovies',\n",
            "       'Contract', 'PaperlessBilling', 'PaymentMethod', 'TotalCharges',\n",
            "       'Churn'],\n",
            "      dtype='object')\n"
          ]
        }
      ]
    },
    {
      "cell_type": "code",
      "source": [
        "# 3. Выделить числовые данные\n",
        "numeric_columns = df.select_dtypes(include=['float64', 'int64']).columns\n",
        "print(\"\\nЧисловые столбцы:\")\n",
        "print(numeric_columns)\n"
      ],
      "metadata": {
        "colab": {
          "base_uri": "https://localhost:8080/"
        },
        "id": "dxe7STVJG29_",
        "outputId": "3cdc150d-0dfa-4f42-8688-6dfa244c014b"
      },
      "execution_count": 17,
      "outputs": [
        {
          "output_type": "stream",
          "name": "stdout",
          "text": [
            "\n",
            "Числовые столбцы:\n",
            "Index(['SeniorCitizen', 'tenure', 'MonthlyCharges'], dtype='object')\n"
          ]
        }
      ]
    },
    {
      "cell_type": "code",
      "source": [
        "# 4. Заполнить пропущенные значения в числовых столбцах средними значениями\n",
        "df[numeric_columns] = df[numeric_columns].apply(lambda x: x.fillna(x.mean()))\n"
      ],
      "metadata": {
        "id": "H7bfOUBFG7Kv"
      },
      "execution_count": 18,
      "outputs": []
    },
    {
      "cell_type": "code",
      "source": [
        "# 5. Заполнить пропущенные значения в категориальных столбцах самым часто встречающимся значением (модой)\n",
        "df[categorical_columns] = df[categorical_columns].apply(lambda x: x.fillna(x.mode()[0]))\n"
      ],
      "metadata": {
        "id": "dLr6RTCbHP5P"
      },
      "execution_count": 19,
      "outputs": []
    },
    {
      "cell_type": "code",
      "source": [
        "# 6. Проверяем, что пропущенные значения отсутствуют\n",
        "print(\"\\nКоличество пропущенных значений после заполнения:\")\n",
        "print(df.isnull().sum())"
      ],
      "metadata": {
        "colab": {
          "base_uri": "https://localhost:8080/"
        },
        "id": "eahYU3P5HgPG",
        "outputId": "b1818485-e0b6-4ce8-e321-903eec98dbb8"
      },
      "execution_count": 20,
      "outputs": [
        {
          "output_type": "stream",
          "name": "stdout",
          "text": [
            "\n",
            "Количество пропущенных значений после заполнения:\n",
            "customerID          0\n",
            "gender              0\n",
            "SeniorCitizen       0\n",
            "Partner             0\n",
            "Dependents          0\n",
            "tenure              0\n",
            "PhoneService        0\n",
            "MultipleLines       0\n",
            "InternetService     0\n",
            "OnlineSecurity      0\n",
            "OnlineBackup        0\n",
            "DeviceProtection    0\n",
            "TechSupport         0\n",
            "StreamingTV         0\n",
            "StreamingMovies     0\n",
            "Contract            0\n",
            "PaperlessBilling    0\n",
            "PaymentMethod       0\n",
            "MonthlyCharges      0\n",
            "TotalCharges        0\n",
            "Churn               0\n",
            "dtype: int64\n"
          ]
        }
      ]
    },
    {
      "cell_type": "code",
      "source": [
        "# 7. Сохраняем очищенный датасет\n",
        "df.to_csv(\"Cleaned_Churn.csv\", index=False, encoding=\"utf-8\")\n",
        "print(\"\\nФайл Cleaned_Churn.csv успешно сохранён!\")\n"
      ],
      "metadata": {
        "colab": {
          "base_uri": "https://localhost:8080/"
        },
        "id": "cnfOFgBrHj73",
        "outputId": "4e408571-28fa-456b-a21d-f574dcc383b5"
      },
      "execution_count": 21,
      "outputs": [
        {
          "output_type": "stream",
          "name": "stdout",
          "text": [
            "\n",
            "Файл Cleaned_Churn.csv успешно сохранён!\n"
          ]
        }
      ]
    },
    {
      "cell_type": "markdown",
      "source": [
        "9.\tДобавить в имеющуюся структуру датасета строку"
      ],
      "metadata": {
        "id": "XFYSYxDBIaq1"
      }
    },
    {
      "cell_type": "code",
      "source": [
        "import pandas as pd\n",
        "\n",
        "# Загружаем очищенный датасет\n",
        "df = pd.read_csv(\"Cleaned_Churn.csv\")\n",
        "\n",
        "# Создаём новую строку в виде словаря\n",
        "new_row = {\n",
        "    'customerID': '9999-NEWID',\n",
        "    'gender': 'Male',\n",
        "    'SeniorCitizen': 0,\n",
        "    'Partner': 'No',\n",
        "    'Dependents': 'No',\n",
        "    'tenure': 12,\n",
        "    'PhoneService': 'Yes',\n",
        "    'MultipleLines': 'No',\n",
        "    'InternetService': 'DSL',\n",
        "    'OnlineSecurity': 'Yes',\n",
        "    'DeviceProtection': 'Yes',\n",
        "    'TechSupport': 'No',\n",
        "    'StreamingTV': 'Yes',\n",
        "    'StreamingMovies': 'No',\n",
        "    'Contract': 'Month-to-month',\n",
        "    'PaperlessBilling': 'Yes',\n",
        "    'PaymentMethod': 'Credit card (automatic)',\n",
        "    'MonthlyCharges': 45.75,\n",
        "    'TotalCharges': 500.25,\n",
        "    'Churn': 'No'\n",
        "}\n",
        "\n",
        "# Преобразуем словарь в DataFrame\n",
        "new_row_df = pd.DataFrame([new_row])\n",
        "\n",
        "# Добавляем строку в DataFrame\n",
        "df = pd.concat([df, new_row_df], ignore_index=True)\n",
        "\n",
        "# Выводим обновлённый DataFrame\n",
        "print(df.tail(5))  # Покажем последние 5 строк для проверки\n",
        "\n",
        "# Сохраняем обновлённый датасет\n",
        "df.to_csv(\"Updated_Churn.csv\", index=False, encoding=\"utf-8\")\n",
        "\n",
        "print(\"\\nФайл Updated_Churn.csv успешно сохранён!\")"
      ],
      "metadata": {
        "colab": {
          "base_uri": "https://localhost:8080/"
        },
        "id": "uSkQqNHGIa4E",
        "outputId": "c7ae7b06-e71d-4ecf-d8d3-2cf7ccef23ce"
      },
      "execution_count": 22,
      "outputs": [
        {
          "output_type": "stream",
          "name": "stdout",
          "text": [
            "      customerID  gender  SeniorCitizen Partner Dependents  tenure  \\\n",
            "7039  2234-XADUH  Female              0     Yes        Yes      72   \n",
            "7040  4801-JZAZL  Female              0     Yes        Yes      11   \n",
            "7041  8361-LTMKD    Male              1     Yes         No       4   \n",
            "7042  3186-AJIEK    Male              0      No         No      66   \n",
            "7043  9999-NEWID    Male              0      No         No      12   \n",
            "\n",
            "     PhoneService     MultipleLines InternetService OnlineSecurity  ...  \\\n",
            "7039          Yes               Yes     Fiber optic             No  ...   \n",
            "7040           No  No phone service             DSL            Yes  ...   \n",
            "7041          Yes               Yes     Fiber optic             No  ...   \n",
            "7042          Yes                No     Fiber optic            Yes  ...   \n",
            "7043          Yes                No             DSL            Yes  ...   \n",
            "\n",
            "     DeviceProtection TechSupport StreamingTV StreamingMovies        Contract  \\\n",
            "7039              Yes          No         Yes             Yes        One year   \n",
            "7040               No          No          No              No  Month-to-month   \n",
            "7041               No          No          No              No  Month-to-month   \n",
            "7042              Yes         Yes         Yes             Yes        Two year   \n",
            "7043              Yes          No         Yes              No  Month-to-month   \n",
            "\n",
            "     PaperlessBilling              PaymentMethod MonthlyCharges  TotalCharges  \\\n",
            "7039              Yes    Credit card (automatic)         103.20        7362.9   \n",
            "7040              Yes           Electronic check          29.60        346.45   \n",
            "7041              Yes               Mailed check          74.40         306.6   \n",
            "7042              Yes  Bank transfer (automatic)         105.65        6844.5   \n",
            "7043              Yes    Credit card (automatic)          45.75        500.25   \n",
            "\n",
            "     Churn  \n",
            "7039    No  \n",
            "7040    No  \n",
            "7041   Yes  \n",
            "7042    No  \n",
            "7043    No  \n",
            "\n",
            "[5 rows x 21 columns]\n",
            "\n",
            "Файл Updated_Churn.csv успешно сохранён!\n"
          ]
        }
      ]
    },
    {
      "cell_type": "markdown",
      "source": [
        "10.\tСоздать еще одну структуру DataFrame, наполнить её произвольными данными и соединить с текущей структурой по вертикали (join)."
      ],
      "metadata": {
        "id": "yr6CTRxnI1xW"
      }
    },
    {
      "cell_type": "code",
      "source": [
        "import pandas as pd\n",
        "\n",
        "# Загружаем обновлённый датасет\n",
        "df = pd.read_csv(\"Updated_Churn.csv\")\n",
        "\n",
        "# Создаём новый DataFrame с произвольными данными\n",
        "new_data = {\n",
        "    'customerID': ['1111-AAAA', '2222-BBBB'],\n",
        "    'gender': ['Female', 'Male'],\n",
        "    'SeniorCitizen': [1, 0],\n",
        "    'Partner': ['Yes', 'No'],\n",
        "    'Dependents': ['No', 'Yes'],\n",
        "    'tenure': [34, 6],\n",
        "    'PhoneService': ['Yes', 'No'],\n",
        "    'MultipleLines': ['Yes', 'No phone service'],\n",
        "    'InternetService': ['Fiber optic', 'DSL'],\n",
        "    'OnlineSecurity': ['No', 'Yes'],\n",
        "    'DeviceProtection': ['Yes', 'No'],\n",
        "    'TechSupport': ['No', 'Yes'],\n",
        "    'StreamingTV': ['Yes', 'No'],\n",
        "    'StreamingMovies': ['Yes', 'Yes'],\n",
        "    'Contract': ['Two year', 'Month-to-month'],\n",
        "    'PaperlessBilling': ['Yes', 'No'],\n",
        "    'PaymentMethod': ['Mailed check', 'Bank transfer (automatic)'],\n",
        "    'MonthlyCharges': [79.85, 30.50],\n",
        "    'TotalCharges': [2500.60, 180.75],\n",
        "    'Churn': ['No', 'Yes']\n",
        "}\n",
        "\n",
        "# Преобразуем словарь в DataFrame\n",
        "df_new_data = pd.DataFrame(new_data)\n",
        "\n",
        "# Объединяем два DataFrame по вертикали\n",
        "df_combined = pd.concat([df, df_new_data], ignore_index=True)\n",
        "\n",
        "# Выводим последние строки для проверки\n",
        "print(df_combined.tail(5))\n",
        "\n",
        "# Сохраняем результат в новый CSV-файл\n",
        "df_combined.to_csv(\"Final_Churn.csv\", index=False, encoding=\"utf-8\")\n",
        "\n",
        "print(\"\\nФайл Final_Churn.csv успешно сохранён!\")"
      ],
      "metadata": {
        "colab": {
          "base_uri": "https://localhost:8080/"
        },
        "id": "5Hqc3XkrJBX2",
        "outputId": "75bae5e2-f638-4394-8461-b11f98e8475b"
      },
      "execution_count": 23,
      "outputs": [
        {
          "output_type": "stream",
          "name": "stdout",
          "text": [
            "      customerID  gender  SeniorCitizen Partner Dependents  tenure  \\\n",
            "7041  8361-LTMKD    Male              1     Yes         No       4   \n",
            "7042  3186-AJIEK    Male              0      No         No      66   \n",
            "7043  9999-NEWID    Male              0      No         No      12   \n",
            "7044   1111-AAAA  Female              1     Yes         No      34   \n",
            "7045   2222-BBBB    Male              0      No        Yes       6   \n",
            "\n",
            "     PhoneService     MultipleLines InternetService OnlineSecurity  ...  \\\n",
            "7041          Yes               Yes     Fiber optic             No  ...   \n",
            "7042          Yes                No     Fiber optic            Yes  ...   \n",
            "7043          Yes                No             DSL            Yes  ...   \n",
            "7044          Yes               Yes     Fiber optic             No  ...   \n",
            "7045           No  No phone service             DSL            Yes  ...   \n",
            "\n",
            "     DeviceProtection TechSupport StreamingTV StreamingMovies        Contract  \\\n",
            "7041               No          No          No              No  Month-to-month   \n",
            "7042              Yes         Yes         Yes             Yes        Two year   \n",
            "7043              Yes          No         Yes              No  Month-to-month   \n",
            "7044              Yes          No         Yes             Yes        Two year   \n",
            "7045               No         Yes          No             Yes  Month-to-month   \n",
            "\n",
            "     PaperlessBilling              PaymentMethod MonthlyCharges  TotalCharges  \\\n",
            "7041              Yes               Mailed check          74.40         306.6   \n",
            "7042              Yes  Bank transfer (automatic)         105.65        6844.5   \n",
            "7043              Yes    Credit card (automatic)          45.75        500.25   \n",
            "7044              Yes               Mailed check          79.85        2500.6   \n",
            "7045               No  Bank transfer (automatic)          30.50        180.75   \n",
            "\n",
            "     Churn  \n",
            "7041   Yes  \n",
            "7042    No  \n",
            "7043    No  \n",
            "7044    No  \n",
            "7045   Yes  \n",
            "\n",
            "[5 rows x 21 columns]\n",
            "\n",
            "Файл Final_Churn.csv успешно сохранён!\n"
          ]
        }
      ]
    },
    {
      "cell_type": "markdown",
      "source": [
        "11.\t Выполнить над данными следующие статистические операции (см. табл. 3.2), отмеченные в таблице. Для числовых значений необходимо создать фрейм только для числовых значений и работать с ним."
      ],
      "metadata": {
        "id": "1ir49IP4JilQ"
      }
    },
    {
      "cell_type": "code",
      "source": [
        "import pandas as pd\n",
        "\n",
        "# Загружаем обновлённый датасет\n",
        "df = pd.read_csv(\"Final_Churn.csv\")\n",
        "\n",
        "# Выделяем только числовые столбцы\n",
        "numeric_df = df.select_dtypes(include=['float64', 'int64'])\n",
        "\n",
        "# Рассчитываем MAD вручную (среднее абсолютное отклонение)\n",
        "mad = (numeric_df - numeric_df.mean()).abs().mean()\n",
        "\n",
        "# Вычисляем статистики\n",
        "statistics = {\n",
        "    \"count\": numeric_df.count(),                 #Количество объектов\n",
        "    \"sum\": numeric_df.sum(),                     #Сумма\n",
        "    \"mean\": numeric_df.mean(),                   #Среднее значение\n",
        "    \"mad\": mad,                                  #Среднее абсолютное отклонение,Добавляем вручную рассчитанный MAD\n",
        "    \"median\": numeric_df.median(),               #Медиана\n",
        "    \"min\": numeric_df.min(),                     #Минимум\n",
        "    \"max\": numeric_df.max(),                     #Максимум\n",
        "    \"mode\": numeric_df.mode().iloc[0],           #Мода\n",
        "    \"std\": numeric_df.std(),                     #Стандартное отклонение\n",
        "    \"quantile_25%\": numeric_df.quantile(0.25),   #Квантиль (%)\n",
        "    \"quantile_50%\": numeric_df.quantile(0.50),\n",
        "    \"quantile_75%\": numeric_df.quantile(0.75)\n",
        "}\n",
        "\n",
        "# Преобразуем в DataFrame для удобства вывода\n",
        "stats_df = pd.DataFrame(statistics)\n",
        "\n",
        "# Выводим рассчитанные статистики\n",
        "print(\"\\nСтатистические показатели для числовых данных:\")\n",
        "print(stats_df)\n",
        "\n",
        "# Сохраняем статистику в CSV-файл\n",
        "stats_df.to_csv(\"Statistics.csv\", encoding=\"utf-8\")\n",
        "\n",
        "print(\"\\nФайл Statistics.csv успешно сохранён!\")"
      ],
      "metadata": {
        "colab": {
          "base_uri": "https://localhost:8080/"
        },
        "id": "IBhQSMa_wE6P",
        "outputId": "14c80c95-2e5e-4573-d77f-a0eb2adfb8aa"
      },
      "execution_count": 29,
      "outputs": [
        {
          "output_type": "stream",
          "name": "stdout",
          "text": [
            "\n",
            "Статистические показатели для числовых данных:\n",
            "                count       sum       mean        mad  median    min     max  \\\n",
            "SeniorCitizen    7046    1143.0   0.162220   0.271809    0.00   0.00    1.00   \n",
            "tenure           7046  228042.0  32.364746  21.870180   29.00   0.00   72.00   \n",
            "MonthlyCharges   7046  456272.7  64.756273  26.221256   70.35  18.25  118.75   \n",
            "\n",
            "                 mode        std  quantile_25%  quantile_50%  quantile_75%  \n",
            "SeniorCitizen    0.00   0.368678           0.0          0.00          0.00  \n",
            "tenure           1.00  24.557468           9.0         29.00         55.00  \n",
            "MonthlyCharges  20.05  30.087798          35.5         70.35         89.85  \n",
            "\n",
            "Файл Statistics.csv успешно сохранён!\n"
          ]
        }
      ]
    },
    {
      "cell_type": "markdown",
      "source": [
        "12.\tВывести сводную информацию по статистикам (describe())."
      ],
      "metadata": {
        "id": "r95tTSNv1G9O"
      }
    },
    {
      "cell_type": "code",
      "source": [
        "import pandas as pd\n",
        "\n",
        "# Загружаем обновлённый датасет\n",
        "df = pd.read_csv(\"Final_Churn.csv\")\n",
        "\n",
        "# Сводная информация для числовых столбцов\n",
        "print(\"Сводная информация по числовым данным:\")\n",
        "print(df.describe())\n",
        "\n",
        "# Если хочешь вывести describe() для категориальных столбцов\n",
        "print(\"\\nСводная информация по категориальным данным:\")\n",
        "print(df.describe(include=['object']))\n"
      ],
      "metadata": {
        "colab": {
          "base_uri": "https://localhost:8080/"
        },
        "id": "malR-_cV1Ki-",
        "outputId": "4b898e55-db23-4632-a3c8-fd3887407f8f"
      },
      "execution_count": 30,
      "outputs": [
        {
          "output_type": "stream",
          "name": "stdout",
          "text": [
            "Сводная информация по числовым данным:\n",
            "       SeniorCitizen       tenure  MonthlyCharges\n",
            "count    7046.000000  7046.000000     7046.000000\n",
            "mean        0.162220    32.364746       64.756273\n",
            "std         0.368678    24.557468       30.087798\n",
            "min         0.000000     0.000000       18.250000\n",
            "25%         0.000000     9.000000       35.500000\n",
            "50%         0.000000    29.000000       70.350000\n",
            "75%         0.000000    55.000000       89.850000\n",
            "max         1.000000    72.000000      118.750000\n",
            "\n",
            "Сводная информация по категориальным данным:\n",
            "        customerID gender Partner Dependents PhoneService MultipleLines  \\\n",
            "count         7046   7046    7046       7046         7046          7046   \n",
            "unique        7046      2       2          2            2             3   \n",
            "top     7590-VHVEG   Male      No         No          Yes            No   \n",
            "freq             1   3557    3643       4935         6363          3391   \n",
            "\n",
            "       InternetService OnlineSecurity OnlineBackup DeviceProtection  \\\n",
            "count             7046           7046         7043             7046   \n",
            "unique               3              3            3                3   \n",
            "top        Fiber optic             No           No               No   \n",
            "freq              3097           3499         3088             3096   \n",
            "\n",
            "       TechSupport StreamingTV StreamingMovies        Contract  \\\n",
            "count         7046        7046            7046            7046   \n",
            "unique           3           3               3               3   \n",
            "top             No          No              No  Month-to-month   \n",
            "freq          3475        2811            2786            3877   \n",
            "\n",
            "       PaperlessBilling     PaymentMethod TotalCharges Churn  \n",
            "count              7046              7046         7046  7046  \n",
            "unique                2                 4         6534     2  \n",
            "top                 Yes  Electronic check         20.2    No  \n",
            "freq               4173              2365           11  5176  \n"
          ]
        }
      ]
    },
    {
      "cell_type": "markdown",
      "source": [
        "13.\tВывести описательную статистику всех категориальных переменных\n",
        "\n",
        "\n"
      ],
      "metadata": {
        "id": "GpddhHubLSub"
      }
    },
    {
      "cell_type": "code",
      "source": [
        "import pandas as pd\n",
        "\n",
        "# Загружаем датасет\n",
        "df = pd.read_csv(\"Final_Churn.csv\")\n",
        "\n",
        "# Выделяем категориальные столбцы\n",
        "categorical_columns = df.select_dtypes(include=['object'])\n",
        "\n",
        "# Выводим описательную статистику для категориальных переменных\n",
        "print(\"Описательная статистика по категориальным переменным:\\n\")\n",
        "print(df[categorical_columns].describe())\n"
      ],
      "metadata": {
        "colab": {
          "base_uri": "https://localhost:8080/"
        },
        "id": "LkfQ2a_MLgd7",
        "outputId": "0bab4e97-fa53-4c11-bf2f-4c5daf0acde6"
      },
      "execution_count": 31,
      "outputs": [
        {
          "output_type": "stream",
          "name": "stdout",
          "text": [
            "Описательная статистика по категориальным переменным:\n",
            "\n",
            "        customerID gender Partner Dependents PhoneService MultipleLines  \\\n",
            "count         7046   7046    7046       7046         7046          7046   \n",
            "unique        7046      2       2          2            2             3   \n",
            "top     7590-VHVEG   Male      No         No          Yes            No   \n",
            "freq             1   3557    3643       4935         6363          3391   \n",
            "\n",
            "       InternetService OnlineSecurity OnlineBackup DeviceProtection  \\\n",
            "count             7046           7046         7043             7046   \n",
            "unique               3              3            3                3   \n",
            "top        Fiber optic             No           No               No   \n",
            "freq              3097           3499         3088             3096   \n",
            "\n",
            "       TechSupport StreamingTV StreamingMovies        Contract  \\\n",
            "count         7046        7046            7046            7046   \n",
            "unique           3           3               3               3   \n",
            "top             No          No              No  Month-to-month   \n",
            "freq          3475        2811            2786            3877   \n",
            "\n",
            "       PaperlessBilling     PaymentMethod TotalCharges Churn  \n",
            "count              7046              7046         7046  7046  \n",
            "unique                2                 4         6534     2  \n",
            "top                 Yes  Electronic check         20.2    No  \n",
            "freq               4173              2365           11  5176  \n"
          ]
        }
      ]
    },
    {
      "cell_type": "markdown",
      "source": [
        "11.12"
      ],
      "metadata": {
        "id": "8n6drNEjRh8a"
      }
    },
    {
      "cell_type": "code",
      "source": [
        "import pandas as pd\n",
        "\n",
        "# Загрузка данных из основного CSV-файла\n",
        "df = pd.read_csv('Final_Churn.csv')\n",
        "\n",
        "# Создание новой структуры DataFrame с произвольными данными\n",
        "new_data = {\n",
        "    'customerID': ['1111-AAAA', '2222-BBBB'],\n",
        "    'gender': ['Female', 'Male'],\n",
        "    'SeniorCitizen': [1, 0],\n",
        "    'Partner': ['Yes', 'No'],\n",
        "    'Dependents': ['No', 'Yes'],\n",
        "    'tenure': [34, 6],\n",
        "    'PhoneService': ['Yes', 'No'],\n",
        "    'MultipleLines': ['Yes', 'No phone service'],\n",
        "    'InternetService': ['Fiber optic', 'DSL'],\n",
        "    'OnlineSecurity': ['No', 'Yes'],\n",
        "    'DeviceProtection': ['Yes', 'No'],\n",
        "    'TechSupport': ['No', 'Yes'],\n",
        "    'StreamingTV': ['Yes', 'No'],\n",
        "    'StreamingMovies': ['Yes', 'Yes'],\n",
        "    'Contract': ['Two year', 'Month-to-month'],\n",
        "    'PaperlessBilling': ['Yes', 'No'],\n",
        "    'PaymentMethod': ['Mailed check', 'Bank transfer (automatic)'],\n",
        "    'MonthlyCharges': [79.85, 30.50],\n",
        "    'TotalCharges': [2500.60, 180.75],\n",
        "    'Churn': ['No', 'Yes']\n",
        "}\n",
        "\n",
        "# Преобразование словаря в DataFrame\n",
        "new_df = pd.DataFrame(new_data)\n",
        "\n",
        "# Объединение текущего DataFrame с новым DataFrame по вертикали\n",
        "combi_df = pd.concat([df, new_df], ignore_index=True)\n",
        "\n",
        "# Вывод объединенного DataFrame\n",
        "print(\"\\nОбъединенный DataFrame:\")\n",
        "print(combi_df)\n",
        "\n",
        "# Создание фрейма только для числовых значений\n",
        "num_df = combi_df.select_dtypes(include=['number'])\n",
        "\n",
        "# Проверка, что numeric_df не пустой\n",
        "if not numeric_df.empty:\n",
        "    # Вывод сводной информации по статистикам\n",
        "    print(\"\\nСводная информация по статистикам:\")\n",
        "    print(numeric_df.describe())\n",
        "\n",
        "    # Выполнение статистических операций и вывод результатов\n",
        "    print(\"\\nСтатистические операции:\")\n",
        "    print(\"Количество объектов (count):\\n\", numeric_df.count())\n",
        "    print(\"\\nСумма (sum):\\n\", numeric_df.sum())\n",
        "    print(\"\\nСреднее значение (mean):\\n\", numeric_df.mean())\n",
        "    # Исправлено: замена mad\n",
        "    mean_abs_deviation = (numeric_df - numeric_df.mean()).abs().mean()\n",
        "    print(\"\\nСреднее абсолютное отклонение (mad):\\n\", mean_abs_deviation)\n",
        "    print(\"\\nМедиана (median):\\n\", numeric_df.median())\n",
        "    print(\"\\nМинимум (min):\\n\", numeric_df.min())\n",
        "    print(\"\\nМаксимум (max):\\n\", numeric_df.max())\n",
        "    print(\"\\nМода (mode):\\n\", numeric_df.mode().iloc[0])  # Вывод первого значения моды\n",
        "    print(\"\\nАбсолютное значение (abs):\\n\", numeric_df.abs().head())  # Вывод первых 5 строк\n",
        "    print(\"\\nСтандартное отклонение (std):\\n\", numeric_df.std())\n",
        "    print(\"\\nКвантиль (25%):\\n\", numeric_df.quantile(0.25))\n",
        "    print(\"\\nКвантиль (50%):\\n\", numeric_df.quantile(0.50))\n",
        "    print(\"\\nКвантиль (75%):\\n\", numeric_df.quantile(0.75))\n",
        "else:\n",
        "    print(\"\\nВ DataFrame нет числовых столбцов.\")"
      ],
      "metadata": {
        "colab": {
          "base_uri": "https://localhost:8080/"
        },
        "id": "10i7oMykRi_P",
        "outputId": "35b5d834-6374-42a1-dfec-acb3daf8c50a"
      },
      "execution_count": 33,
      "outputs": [
        {
          "output_type": "stream",
          "name": "stdout",
          "text": [
            "\n",
            "Объединенный DataFrame:\n",
            "      customerID  gender  SeniorCitizen Partner Dependents  tenure  \\\n",
            "0     7590-VHVEG  Female              0     Yes         No       1   \n",
            "1     5575-GNVDE    Male              0      No         No      34   \n",
            "2     3668-QPYBK    Male              0      No         No       2   \n",
            "3     7795-CFOCW    Male              0      No         No      45   \n",
            "4     9237-HQITU  Female              0      No         No       2   \n",
            "...          ...     ...            ...     ...        ...     ...   \n",
            "7043  9999-NEWID    Male              0      No         No      12   \n",
            "7044   1111-AAAA  Female              1     Yes         No      34   \n",
            "7045   2222-BBBB    Male              0      No        Yes       6   \n",
            "7046   1111-AAAA  Female              1     Yes         No      34   \n",
            "7047   2222-BBBB    Male              0      No        Yes       6   \n",
            "\n",
            "     PhoneService     MultipleLines InternetService OnlineSecurity  ...  \\\n",
            "0              No  No phone service             DSL             No  ...   \n",
            "1             Yes                No             DSL            Yes  ...   \n",
            "2             Yes                No             DSL            Yes  ...   \n",
            "3              No  No phone service             DSL            Yes  ...   \n",
            "4             Yes                No     Fiber optic             No  ...   \n",
            "...           ...               ...             ...            ...  ...   \n",
            "7043          Yes                No             DSL            Yes  ...   \n",
            "7044          Yes               Yes     Fiber optic             No  ...   \n",
            "7045           No  No phone service             DSL            Yes  ...   \n",
            "7046          Yes               Yes     Fiber optic             No  ...   \n",
            "7047           No  No phone service             DSL            Yes  ...   \n",
            "\n",
            "     DeviceProtection TechSupport StreamingTV StreamingMovies        Contract  \\\n",
            "0                  No          No          No              No  Month-to-month   \n",
            "1                 Yes          No          No              No        One year   \n",
            "2                  No          No          No              No  Month-to-month   \n",
            "3                 Yes         Yes          No              No        One year   \n",
            "4                  No          No          No              No  Month-to-month   \n",
            "...               ...         ...         ...             ...             ...   \n",
            "7043              Yes          No         Yes              No  Month-to-month   \n",
            "7044              Yes          No         Yes             Yes        Two year   \n",
            "7045               No         Yes          No             Yes  Month-to-month   \n",
            "7046              Yes          No         Yes             Yes        Two year   \n",
            "7047               No         Yes          No             Yes  Month-to-month   \n",
            "\n",
            "     PaperlessBilling              PaymentMethod MonthlyCharges  TotalCharges  \\\n",
            "0                 Yes           Electronic check          29.85         29.85   \n",
            "1                  No               Mailed check          56.95        1889.5   \n",
            "2                 Yes               Mailed check          53.85        108.15   \n",
            "3                  No  Bank transfer (automatic)          42.30       1840.75   \n",
            "4                 Yes           Electronic check          70.70        151.65   \n",
            "...               ...                        ...            ...           ...   \n",
            "7043              Yes    Credit card (automatic)          45.75        500.25   \n",
            "7044              Yes               Mailed check          79.85        2500.6   \n",
            "7045               No  Bank transfer (automatic)          30.50        180.75   \n",
            "7046              Yes               Mailed check          79.85        2500.6   \n",
            "7047               No  Bank transfer (automatic)          30.50        180.75   \n",
            "\n",
            "     Churn  \n",
            "0       No  \n",
            "1       No  \n",
            "2      Yes  \n",
            "3       No  \n",
            "4      Yes  \n",
            "...    ...  \n",
            "7043    No  \n",
            "7044    No  \n",
            "7045   Yes  \n",
            "7046    No  \n",
            "7047   Yes  \n",
            "\n",
            "[7048 rows x 21 columns]\n",
            "\n",
            "Сводная информация по статистикам:\n",
            "       SeniorCitizen       tenure  MonthlyCharges\n",
            "count    7046.000000  7046.000000     7046.000000\n",
            "mean        0.162220    32.364746       64.756273\n",
            "std         0.368678    24.557468       30.087798\n",
            "min         0.000000     0.000000       18.250000\n",
            "25%         0.000000     9.000000       35.500000\n",
            "50%         0.000000    29.000000       70.350000\n",
            "75%         0.000000    55.000000       89.850000\n",
            "max         1.000000    72.000000      118.750000\n",
            "\n",
            "Статистические операции:\n",
            "Количество объектов (count):\n",
            " SeniorCitizen     7046\n",
            "tenure            7046\n",
            "MonthlyCharges    7046\n",
            "dtype: int64\n",
            "\n",
            "Сумма (sum):\n",
            " SeniorCitizen       1143.0\n",
            "tenure            228042.0\n",
            "MonthlyCharges    456272.7\n",
            "dtype: float64\n",
            "\n",
            "Среднее значение (mean):\n",
            " SeniorCitizen      0.162220\n",
            "tenure            32.364746\n",
            "MonthlyCharges    64.756273\n",
            "dtype: float64\n",
            "\n",
            "Среднее абсолютное отклонение (mad):\n",
            " SeniorCitizen      0.271809\n",
            "tenure            21.870180\n",
            "MonthlyCharges    26.221256\n",
            "dtype: float64\n",
            "\n",
            "Медиана (median):\n",
            " SeniorCitizen      0.00\n",
            "tenure            29.00\n",
            "MonthlyCharges    70.35\n",
            "dtype: float64\n",
            "\n",
            "Минимум (min):\n",
            " SeniorCitizen      0.00\n",
            "tenure             0.00\n",
            "MonthlyCharges    18.25\n",
            "dtype: float64\n",
            "\n",
            "Максимум (max):\n",
            " SeniorCitizen       1.00\n",
            "tenure             72.00\n",
            "MonthlyCharges    118.75\n",
            "dtype: float64\n",
            "\n",
            "Мода (mode):\n",
            " SeniorCitizen      0.00\n",
            "tenure             1.00\n",
            "MonthlyCharges    20.05\n",
            "Name: 0, dtype: float64\n",
            "\n",
            "Абсолютное значение (abs):\n",
            "    SeniorCitizen  tenure  MonthlyCharges\n",
            "0              0       1           29.85\n",
            "1              0      34           56.95\n",
            "2              0       2           53.85\n",
            "3              0      45           42.30\n",
            "4              0       2           70.70\n",
            "\n",
            "Стандартное отклонение (std):\n",
            " SeniorCitizen      0.368678\n",
            "tenure            24.557468\n",
            "MonthlyCharges    30.087798\n",
            "dtype: float64\n",
            "\n",
            "Квантиль (25%):\n",
            " SeniorCitizen      0.0\n",
            "tenure             9.0\n",
            "MonthlyCharges    35.5\n",
            "Name: 0.25, dtype: float64\n",
            "\n",
            "Квантиль (50%):\n",
            " SeniorCitizen      0.00\n",
            "tenure            29.00\n",
            "MonthlyCharges    70.35\n",
            "Name: 0.5, dtype: float64\n",
            "\n",
            "Квантиль (75%):\n",
            " SeniorCitizen      0.00\n",
            "tenure            55.00\n",
            "MonthlyCharges    89.85\n",
            "Name: 0.75, dtype: float64\n"
          ]
        }
      ]
    },
    {
      "cell_type": "markdown",
      "source": [
        "13"
      ],
      "metadata": {
        "id": "UT_i5abjS_qm"
      }
    },
    {
      "cell_type": "code",
      "source": [
        "import pandas as pd\n",
        "\n",
        "# Загрузка данных из основного CSV-файла\n",
        "df = pd.read_csv('Final_Churn.csv')\n",
        "\n",
        "# Вывод описательной статистики для категориальных переменных\n",
        "categorical_stats = combi_df.describe(include=['object'])\n",
        "print(\"\\nОписательная статистика для категориальных переменных:\")\n",
        "print(categorical_stats)"
      ],
      "metadata": {
        "colab": {
          "base_uri": "https://localhost:8080/"
        },
        "id": "ljKatjsvTFBS",
        "outputId": "81223dc8-be52-4e6b-fe10-f3e8e80e37e8"
      },
      "execution_count": 34,
      "outputs": [
        {
          "output_type": "stream",
          "name": "stdout",
          "text": [
            "\n",
            "Описательная статистика для категориальных переменных:\n",
            "       customerID gender Partner Dependents PhoneService MultipleLines  \\\n",
            "count        7048   7048    7048       7048         7048          7048   \n",
            "unique       7046      2       2          2            2             3   \n",
            "top     2222-BBBB   Male      No         No          Yes            No   \n",
            "freq            2   3558    3644       4936         6364          3391   \n",
            "\n",
            "       InternetService OnlineSecurity OnlineBackup DeviceProtection  \\\n",
            "count             7048           7048         7043             7048   \n",
            "unique               3              3            3                3   \n",
            "top        Fiber optic             No           No               No   \n",
            "freq              3098           3500         3088             3097   \n",
            "\n",
            "       TechSupport StreamingTV StreamingMovies        Contract  \\\n",
            "count         7048        7048            7048            7048   \n",
            "unique           3           3               3               3   \n",
            "top             No          No              No  Month-to-month   \n",
            "freq          3476        2812            2786            3878   \n",
            "\n",
            "       PaperlessBilling     PaymentMethod TotalCharges Churn  \n",
            "count              7048              7048         7048  7048  \n",
            "unique                2                 4         6536     2  \n",
            "top                 Yes  Electronic check         20.2    No  \n",
            "freq               4174              2365           11  5177  \n"
          ]
        }
      ]
    },
    {
      "cell_type": "markdown",
      "source": [
        "14"
      ],
      "metadata": {
        "id": "HOKhEPOHTb2T"
      }
    },
    {
      "cell_type": "code",
      "source": [
        "import matplotlib.pyplot as plt\n",
        "# Загрузка данных из основного CSV-файла\n",
        "df = pd.read_csv('Final_Churn.csv')\n",
        "# Построение гистограмм для числовых столбцов\n",
        "for column in numeric_df.columns:\n",
        "    plt.figure(figsize=(8, 6))\n",
        "    plt.hist(numeric_df[column], bins=20, edgecolor='black')\n",
        "    plt.title(f'Гистограмма для {column}')\n",
        "    plt.xlabel(column)\n",
        "    plt.ylabel('Частота')\n",
        "    plt.grid(True)\n",
        "    plt.show()"
      ],
      "metadata": {
        "colab": {
          "base_uri": "https://localhost:8080/",
          "height": 1000
        },
        "id": "LQjPH6T2TdLw",
        "outputId": "5890c619-a850-4d3b-9436-f9cfed46f796"
      },
      "execution_count": 35,
      "outputs": [
        {
          "output_type": "display_data",
          "data": {
            "text/plain": [
              "<Figure size 800x600 with 1 Axes>"
            ],
            "image/png": "[encoded data removed]"
          },
          "metadata": {}
        },
        {
          "output_type": "display_data",
          "data": {
            "text/plain": [
              "<Figure size 800x600 with 1 Axes>"
            ],
            "image/png": "[encoded data removed]"
          },
          "metadata": {}
        },
        {
          "output_type": "display_data",
          "data": {
            "text/plain": [
              "<Figure size 800x600 with 1 Axes>"
            ],
            "image/png": "[encoded data removed]"
          },
          "metadata": {}
        }
      ]
    }
  ]
}